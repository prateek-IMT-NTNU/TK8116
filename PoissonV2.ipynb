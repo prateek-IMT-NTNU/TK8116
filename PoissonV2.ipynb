{
 "cells": [
  {
   "cell_type": "markdown",
   "metadata": {},
   "source": [
    "# Importing the required packages"
   ]
  },
  {
   "cell_type": "code",
   "execution_count": 1,
   "metadata": {},
   "outputs": [],
   "source": [
    "import numpy as np\n",
    "import matplotlib.pyplot as plt\n",
    "%matplotlib inline\n",
    "import warnings\n",
    "warnings.filterwarnings('ignore', '.*do not.*',)"
   ]
  },
  {
   "cell_type": "code",
   "execution_count": 2,
   "metadata": {},
   "outputs": [],
   "source": [
    "# plate size, m\n",
    "w = h = 0.010\n",
    "# intervals in x-, y- directions, mm\n",
    "dx = dy = 0.0002\n",
    "# Thermal diffusivity of steel, mm2.s-1\n",
    "K = 4.*0.001*0.001\n",
    "rho=1.0\n",
    "cp=1.0\n",
    "Tcool, Thot = 300, 700\n",
    "nsteps = 20000"
   ]
  },
  {
   "cell_type": "code",
   "execution_count": 3,
   "metadata": {},
   "outputs": [],
   "source": [
    "nx, ny = int(w/dx), int(h/dy)\n",
    "dx2, dy2 = dx*dx, dy*dy\n",
    "dt = dx2 * dy2 / (2 * K * (dx2 + dy2)/rho/cp)\n",
    "T0 = Tcool * np.ones((nx, ny))\n",
    "T = np.empty((nx, ny))\n",
    "q = np.zeros((nx, ny))"
   ]
  },
  {
   "cell_type": "code",
   "execution_count": 4,
   "metadata": {},
   "outputs": [],
   "source": [
    "def init_circ(T0):\n",
    "    # Initial conditions - ring of inner radius r, width dr centred at (cx,cy) (mm)\n",
    "    r, cx, cy = 0.002, 0.005, 0.005\n",
    "    r2 = r**2\n",
    "    for i in range(nx):\n",
    "        for j in range(ny):\n",
    "            p2 = (i*dx-cx)**2 + (j*dy-cy)**2\n",
    "            if p2 < r2:\n",
    "                T0[i,j] = Thot\n",
    "    return T0"
   ]
  },
  {
   "cell_type": "code",
   "execution_count": 5,
   "metadata": {},
   "outputs": [],
   "source": [
    "def init_square(T0):\n",
    "    dl,cx,cy=0.002,0.005,0.005\n",
    "    for i in range(nx):\n",
    "        for j in range(ny):\n",
    "            if (i*dx > cx-dl) and (i*dx < cx+dl) and (j*dy > cy-dl) and (j*dy <cy+dl):\n",
    "                T0[i,j]=Thot\n",
    "    return T0"
   ]
  },
  {
   "cell_type": "code",
   "execution_count": 6,
   "metadata": {},
   "outputs": [],
   "source": [
    "def do_timestep(T0, T):\n",
    "    # Propagate with forward-difference in time, central-difference in space\n",
    "    T[1:-1, 1:-1] = T0[1:-1, 1:-1] + (K * dt/rho/cp) * (\n",
    "          (T0[2:, 1:-1] - 2*T0[1:-1, 1:-1] + T0[:-2, 1:-1])/dx2\n",
    "          + (T0[1:-1, 2:] - 2*T0[1:-1, 1:-1] + T0[1:-1, :-2])/dy2 ) +q[1:-1,1:-1]*(dt/rho/cp)\n",
    "\n",
    "    T0 = T.copy()\n",
    "    return T0, T"
   ]
  },
  {
   "cell_type": "markdown",
   "metadata": {},
   "source": [
    "# Solve the equations to generate the temperature field"
   ]
  },
  {
   "cell_type": "code",
   "execution_count": 7,
   "metadata": {},
   "outputs": [],
   "source": [
    "X=np.zeros((nsteps,nx,ny))\n",
    "T0=init_square(T0)\n",
    "for m in range(nsteps):\n",
    "    T0, T = do_timestep(T0, T)\n",
    "    X[m,:,:]=T[:,:]"
   ]
  },
  {
   "cell_type": "code",
   "execution_count": 11,
   "metadata": {},
   "outputs": [
    {
     "data": {
      "image/png": "[encoded data removed]",
      "text/plain": [
       "<Figure size 432x288 with 1 Axes>"
      ]
     },
     "metadata": {},
     "output_type": "display_data"
    }
   ],
   "source": [
    "plt.contourf(X[0,:,:])\n",
    "plt.show()"
   ]
  },
  {
   "cell_type": "markdown",
   "metadata": {},
   "source": [
    "# Preparing data for training"
   ]
  },
  {
   "cell_type": "code",
   "execution_count": 9,
   "metadata": {},
   "outputs": [],
   "source": [
    "X_train=np.reshape(X, (len(X), nx, ny, 1))"
   ]
  },
  {
   "cell_type": "code",
   "execution_count": 10,
   "metadata": {},
   "outputs": [],
   "source": [
    "# We want to predict the temperature field at time \"n+1\" using the temperature field at time \"n\"\n",
    "X1_train=X_train[0:len(X_train)-1,:,:,:]\n",
    "y1_train=X_train[1:len(X_train),:,:,:]"
   ]
  },
  {
   "cell_type": "code",
   "execution_count": 11,
   "metadata": {},
   "outputs": [
    {
     "name": "stderr",
     "output_type": "stream",
     "text": [
      "Using TensorFlow backend.\n"
     ]
    }
   ],
   "source": [
    "from keras.layers import Input, Dense, Conv2D, MaxPooling2D, UpSampling2D\n",
    "from keras.models import Model\n",
    "from keras import backend as K\n",
    "input_img = Input(shape=(nx, ny, 1))\n",
    "x = Conv2D(16, (3, 3), activation='relu', padding='same')(input_img)\n",
    "x = Conv2D(8, (3, 3), activation='relu', padding='same')(x)\n",
    "encoded = Conv2D(8, (3, 3), activation='relu', padding='same')(x)\n",
    "x = Conv2D(8, (3, 3), activation='relu', padding='same')(encoded)\n",
    "x = Conv2D(8, (3, 3), activation='relu', padding='same')(x)\n",
    "x = Conv2D(16, (3, 3), activation='relu',padding='same')(x)\n",
    "decoded = Conv2D(1, (3, 3), activation='linear', padding='same')(x)\n",
    "autoencoder = Model(input_img, decoded)\n",
    "autoencoder.compile(loss='mean_squared_error', optimizer='adam')"
   ]
  },
  {
   "cell_type": "code",
   "execution_count": 12,
   "metadata": {},
   "outputs": [
    {
     "name": "stdout",
     "output_type": "stream",
     "text": [
      "Epoch 1/100\n",
      "19999/19999 [==============================] - 8s 408us/step - loss: 413.9048\n",
      "Epoch 2/100\n",
      "19999/19999 [==============================] - 4s 195us/step - loss: 3.4458\n",
      "Epoch 3/100\n",
      "19999/19999 [==============================] - 4s 195us/step - loss: 1.0558\n",
      "Epoch 4/100\n",
      "19999/19999 [==============================] - 4s 195us/step - loss: 0.5811\n",
      "Epoch 5/100\n",
      "19999/19999 [==============================] - 4s 195us/step - loss: 0.3697\n",
      "Epoch 6/100\n",
      "19999/19999 [==============================] - 4s 195us/step - loss: 0.2618\n",
      "Epoch 7/100\n",
      "19999/19999 [==============================] - 4s 196us/step - loss: 0.3517\n",
      "Epoch 8/100\n",
      "19999/19999 [==============================] - 4s 195us/step - loss: 0.2416\n",
      "Epoch 9/100\n",
      "19999/19999 [==============================] - 4s 195us/step - loss: 0.3793\n",
      "Epoch 10/100\n",
      "19999/19999 [==============================] - 4s 195us/step - loss: 0.1807\n",
      "Epoch 11/100\n",
      "19999/19999 [==============================] - 4s 196us/step - loss: 0.1071\n",
      "Epoch 12/100\n",
      "19999/19999 [==============================] - 4s 200us/step - loss: 0.0910\n",
      "Epoch 13/100\n",
      "19999/19999 [==============================] - 4s 198us/step - loss: 0.0766\n",
      "Epoch 14/100\n",
      "19999/19999 [==============================] - 4s 197us/step - loss: 0.0599\n",
      "Epoch 15/100\n",
      "19999/19999 [==============================] - 4s 202us/step - loss: 0.0956\n",
      "Epoch 16/100\n",
      "19999/19999 [==============================] - 4s 198us/step - loss: 0.3498\n",
      "Epoch 17/100\n",
      "19999/19999 [==============================] - 4s 198us/step - loss: 0.0786\n",
      "Epoch 18/100\n",
      "19999/19999 [==============================] - 4s 200us/step - loss: 0.0438\n",
      "Epoch 19/100\n",
      "19999/19999 [==============================] - 4s 197us/step - loss: 0.0312\n",
      "Epoch 20/100\n",
      "19999/19999 [==============================] - 4s 198us/step - loss: 0.0282\n",
      "Epoch 21/100\n",
      "19999/19999 [==============================] - 4s 198us/step - loss: 0.0339\n",
      "Epoch 22/100\n",
      "19999/19999 [==============================] - 4s 198us/step - loss: 0.0361\n",
      "Epoch 23/100\n",
      "19999/19999 [==============================] - 4s 197us/step - loss: 0.0253\n",
      "Epoch 24/100\n",
      "19999/19999 [==============================] - 4s 197us/step - loss: 0.0977\n",
      "Epoch 25/100\n",
      "19999/19999 [==============================] - 4s 198us/step - loss: 0.0274\n",
      "Epoch 26/100\n",
      "19999/19999 [==============================] - 4s 200us/step - loss: 0.0340\n",
      "Epoch 27/100\n",
      "19999/19999 [==============================] - 4s 197us/step - loss: 2.5847\n",
      "Epoch 28/100\n",
      "19999/19999 [==============================] - 4s 199us/step - loss: 0.6298\n",
      "Epoch 29/100\n",
      "19999/19999 [==============================] - 4s 198us/step - loss: 0.1312\n",
      "Epoch 30/100\n",
      "19999/19999 [==============================] - 4s 199us/step - loss: 0.0618\n",
      "Epoch 31/100\n",
      "19999/19999 [==============================] - 4s 198us/step - loss: 0.0259\n",
      "Epoch 32/100\n",
      "19999/19999 [==============================] - 4s 198us/step - loss: 0.0216\n",
      "Epoch 33/100\n",
      "19999/19999 [==============================] - 4s 198us/step - loss: 0.0196\n",
      "Epoch 34/100\n",
      "19999/19999 [==============================] - 4s 198us/step - loss: 0.0183\n",
      "Epoch 35/100\n",
      "19999/19999 [==============================] - 4s 198us/step - loss: 0.0167\n",
      "Epoch 36/100\n",
      "19999/19999 [==============================] - 4s 198us/step - loss: 0.0167\n",
      "Epoch 37/100\n",
      "19999/19999 [==============================] - 4s 198us/step - loss: 0.0155\n",
      "Epoch 38/100\n",
      "19999/19999 [==============================] - 4s 198us/step - loss: 0.0153\n",
      "Epoch 39/100\n",
      "19999/19999 [==============================] - 4s 199us/step - loss: 0.0142\n",
      "Epoch 40/100\n",
      "19999/19999 [==============================] - 4s 199us/step - loss: 0.0135\n",
      "Epoch 41/100\n",
      "19999/19999 [==============================] - 4s 199us/step - loss: 0.0128\n",
      "Epoch 42/100\n",
      "19999/19999 [==============================] - 4s 199us/step - loss: 0.0147\n",
      "Epoch 43/100\n",
      "19999/19999 [==============================] - 4s 199us/step - loss: 0.0152\n",
      "Epoch 44/100\n",
      "19999/19999 [==============================] - 4s 198us/step - loss: 0.0252\n",
      "Epoch 45/100\n",
      "19999/19999 [==============================] - 4s 198us/step - loss: 0.0368\n",
      "Epoch 46/100\n",
      "19999/19999 [==============================] - 4s 198us/step - loss: 0.0101\n",
      "Epoch 47/100\n",
      "19999/19999 [==============================] - 4s 198us/step - loss: 0.0090\n",
      "Epoch 48/100\n",
      "19999/19999 [==============================] - 4s 199us/step - loss: 0.0089\n",
      "Epoch 49/100\n",
      "19999/19999 [==============================] - 4s 198us/step - loss: 0.0086\n",
      "Epoch 50/100\n",
      "19999/19999 [==============================] - 4s 199us/step - loss: 0.0082\n",
      "Epoch 51/100\n",
      "19999/19999 [==============================] - 4s 199us/step - loss: 0.0087\n",
      "Epoch 52/100\n",
      "19999/19999 [==============================] - 4s 199us/step - loss: 0.0130\n",
      "Epoch 53/100\n",
      "19999/19999 [==============================] - 4s 199us/step - loss: 0.0721\n",
      "Epoch 54/100\n",
      "19999/19999 [==============================] - 4s 198us/step - loss: 0.1912\n",
      "Epoch 55/100\n",
      "19999/19999 [==============================] - 4s 201us/step - loss: 0.4228 1s -\n",
      "Epoch 56/100\n",
      "19999/19999 [==============================] - 4s 204us/step - loss: 0.8044\n",
      "Epoch 57/100\n",
      "19999/19999 [==============================] - 4s 200us/step - loss: 2.4125\n",
      "Epoch 58/100\n",
      "19999/19999 [==============================] - 4s 198us/step - loss: 0.4916\n",
      "Epoch 59/100\n",
      "19999/19999 [==============================] - 4s 198us/step - loss: 0.0754\n",
      "Epoch 60/100\n",
      "19999/19999 [==============================] - 4s 197us/step - loss: 0.0193\n",
      "Epoch 61/100\n",
      "19999/19999 [==============================] - 4s 199us/step - loss: 0.0116\n",
      "Epoch 62/100\n",
      "19999/19999 [==============================] - 4s 198us/step - loss: 0.0100\n",
      "Epoch 63/100\n",
      "19999/19999 [==============================] - 4s 199us/step - loss: 0.0094\n",
      "Epoch 64/100\n",
      "19999/19999 [==============================] - 4s 198us/step - loss: 0.0101\n",
      "Epoch 65/100\n",
      "19999/19999 [==============================] - 4s 198us/step - loss: 0.0084\n",
      "Epoch 66/100\n",
      "19999/19999 [==============================] - 4s 198us/step - loss: 0.0079\n",
      "Epoch 67/100\n",
      "19999/19999 [==============================] - 4s 198us/step - loss: 0.0078\n",
      "Epoch 68/100\n",
      "19999/19999 [==============================] - 4s 198us/step - loss: 0.0076\n",
      "Epoch 69/100\n",
      "19999/19999 [==============================] - 4s 198us/step - loss: 0.0075\n",
      "Epoch 70/100\n",
      "19999/19999 [==============================] - 4s 198us/step - loss: 0.0193\n",
      "Epoch 71/100\n",
      "19999/19999 [==============================] - 4s 198us/step - loss: 0.0192\n",
      "Epoch 72/100\n",
      "19999/19999 [==============================] - 4s 199us/step - loss: 0.0137\n",
      "Epoch 73/100\n",
      "19999/19999 [==============================] - 4s 198us/step - loss: 0.0442\n",
      "Epoch 74/100\n",
      "19999/19999 [==============================] - 4s 198us/step - loss: 0.0238\n",
      "Epoch 75/100\n",
      "19999/19999 [==============================] - 4s 198us/step - loss: 0.0117\n",
      "Epoch 76/100\n",
      "19999/19999 [==============================] - 4s 198us/step - loss: 0.0118\n",
      "Epoch 77/100\n",
      "19999/19999 [==============================] - 4s 199us/step - loss: 0.0082\n",
      "Epoch 78/100\n",
      "19999/19999 [==============================] - 4s 198us/step - loss: 0.0085\n",
      "Epoch 79/100\n",
      "19999/19999 [==============================] - 4s 198us/step - loss: 0.0140\n",
      "Epoch 80/100\n",
      "19999/19999 [==============================] - 4s 198us/step - loss: 0.0332\n",
      "Epoch 81/100\n",
      "19999/19999 [==============================] - 4s 198us/step - loss: 1.0243\n",
      "Epoch 82/100\n",
      "19999/19999 [==============================] - 4s 198us/step - loss: 2.6714\n",
      "Epoch 83/100\n",
      "19999/19999 [==============================] - 4s 197us/step - loss: 1.2632\n",
      "Epoch 84/100\n",
      "19999/19999 [==============================] - 4s 199us/step - loss: 0.0395\n",
      "Epoch 85/100\n",
      "19999/19999 [==============================] - 4s 199us/step - loss: 0.0135\n",
      "Epoch 86/100\n",
      "19999/19999 [==============================] - 4s 198us/step - loss: 0.0088\n",
      "Epoch 87/100\n",
      "19999/19999 [==============================] - 4s 199us/step - loss: 0.0082\n",
      "Epoch 88/100\n",
      "19999/19999 [==============================] - 4s 199us/step - loss: 0.0076\n",
      "Epoch 89/100\n",
      "19999/19999 [==============================] - 4s 198us/step - loss: 0.0073\n",
      "Epoch 90/100\n",
      "19999/19999 [==============================] - 4s 199us/step - loss: 0.0068\n",
      "Epoch 91/100\n",
      "19999/19999 [==============================] - 4s 199us/step - loss: 0.0066\n",
      "Epoch 92/100\n",
      "19999/19999 [==============================] - 4s 198us/step - loss: 0.0063\n",
      "Epoch 93/100\n"
     ]
    },
    {
     "name": "stdout",
     "output_type": "stream",
     "text": [
      "19999/19999 [==============================] - 4s 198us/step - loss: 0.0063\n",
      "Epoch 94/100\n",
      "19999/19999 [==============================] - 4s 199us/step - loss: 0.0089\n",
      "Epoch 95/100\n",
      "19999/19999 [==============================] - 4s 200us/step - loss: 0.0060\n",
      "Epoch 96/100\n",
      "19999/19999 [==============================] - 4s 200us/step - loss: 0.0111\n",
      "Epoch 97/100\n",
      "19999/19999 [==============================] - 4s 201us/step - loss: 0.1910 1s\n",
      "Epoch 98/100\n",
      "19999/19999 [==============================] - 4s 200us/step - loss: 0.3273\n",
      "Epoch 99/100\n",
      "19999/19999 [==============================] - 4s 200us/step - loss: 0.1169\n",
      "Epoch 100/100\n",
      "19999/19999 [==============================] - 4s 199us/step - loss: 0.0174\n"
     ]
    },
    {
     "data": {
      "text/plain": [
       "<keras.callbacks.History at 0x248d4fa4dd8>"
      ]
     },
     "execution_count": 12,
     "metadata": {},
     "output_type": "execute_result"
    }
   ],
   "source": [
    "autoencoder.fit(X1_train, y1_train,epochs=100,batch_size=500)"
   ]
  },
  {
   "cell_type": "code",
   "execution_count": 13,
   "metadata": {},
   "outputs": [
    {
     "data": {
      "image/png": "[encoded data removed]",
      "text/plain": [
       "<Figure size 432x288 with 1 Axes>"
      ]
     },
     "metadata": {},
     "output_type": "display_data"
    }
   ],
   "source": [
    "plt.contourf(X1_train[0,:,:,0])\n",
    "plt.show()"
   ]
  },
  {
   "cell_type": "markdown",
   "metadata": {},
   "source": [
    "# Make the predictions using CNN"
   ]
  },
  {
   "cell_type": "code",
   "execution_count": 14,
   "metadata": {},
   "outputs": [],
   "source": [
    "xtest=X1_train[0,:,:,0]\n",
    "xtest=np.reshape(xtest,(1,nx,ny,1))\n",
    "Xconv=np.zeros((nsteps,nx,ny))\n",
    "for m in range(nsteps):\n",
    "    xtest=autoencoder.predict(xtest)\n",
    "    Xconv[m,:,:]=xtest[0,:,:,0]"
   ]
  },
  {
   "cell_type": "code",
   "execution_count": 15,
   "metadata": {},
   "outputs": [
    {
     "data": {
      "image/png": "[encoded data removed]",
      "text/plain": [
       "<Figure size 432x288 with 1 Axes>"
      ]
     },
     "metadata": {},
     "output_type": "display_data"
    }
   ],
   "source": [
    "plt.contourf(Xconv[200,:,:])\n",
    "plt.show()"
   ]
  },
  {
   "cell_type": "code",
   "execution_count": 16,
   "metadata": {},
   "outputs": [
    {
     "data": {
      "image/png": "[encoded data removed]",
      "text/plain": [
       "<Figure size 432x288 with 1 Axes>"
      ]
     },
     "metadata": {},
     "output_type": "display_data"
    }
   ],
   "source": [
    "plt.plot(Xconv[0:2000,25,25])\n",
    "plt.plot(X1_train[0:2000,25,25,0])\n",
    "plt.show()"
   ]
  },
  {
   "cell_type": "code",
   "execution_count": null,
   "metadata": {},
   "outputs": [],
   "source": []
  }
 ],
 "metadata": {
  "kernelspec": {
   "display_name": "Python 3",
   "language": "python",
   "name": "python3"
  },
  "language_info": {
   "codemirror_mode": {
    "name": "ipython",
    "version": 3
   },
   "file_extension": ".py",
   "mimetype": "text/x-python",
   "name": "python",
   "nbconvert_exporter": "python",
   "pygments_lexer": "ipython3",
   "version": "3.6.6"
  }
 },
 "nbformat": 4,
 "nbformat_minor": 2
}
